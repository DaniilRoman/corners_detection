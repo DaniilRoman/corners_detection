{
 "cells": [
  {
   "cell_type": "code",
   "execution_count": 1,
   "metadata": {},
   "outputs": [],
   "source": [
    "import numpy as np"
   ]
  },
  {
   "cell_type": "code",
   "execution_count": 2,
   "metadata": {},
   "outputs": [
    {
     "data": {
      "text/plain": [
       "array([[[1, 1, 1],\n",
       "        [1, 1, 1],\n",
       "        [1, 1, 1]],\n",
       "\n",
       "       [[1, 1, 1],\n",
       "        [1, 1, 1],\n",
       "        [1, 1, 1]],\n",
       "\n",
       "       [[1, 1, 1],\n",
       "        [1, 1, 1],\n",
       "        [1, 1, 1]]], dtype=int32)"
      ]
     },
     "execution_count": 2,
     "metadata": {},
     "output_type": "execute_result"
    }
   ],
   "source": [
    "img = np.array([ [[1, 1, 1], [1, 1, 1], [1, 1, 1]], \n",
    "              [[1, 1, 1], [1, 1, 1], [1, 1, 1]], \n",
    "              [[1, 1, 1], [1, 1, 1], [1, 1, 1]] \n",
    "             ], np.int32)\n",
    "img"
   ]
  },
  {
   "cell_type": "code",
   "execution_count": 3,
   "metadata": {},
   "outputs": [
    {
     "data": {
      "text/plain": [
       "array([[[1, 1],\n",
       "        [1, 1]],\n",
       "\n",
       "       [[1, 1],\n",
       "        [1, 1]]], dtype=int32)"
      ]
     },
     "execution_count": 3,
     "metadata": {},
     "output_type": "execute_result"
    }
   ],
   "source": [
    "filter_ = np.array([ [[1, 1], [1, 1]], \n",
    "                      [[1, 1], [1, 1]]\n",
    "                    ], np.int32)\n",
    "filter_"
   ]
  },
  {
   "cell_type": "code",
   "execution_count": 4,
   "metadata": {},
   "outputs": [
    {
     "data": {
      "text/plain": [
       "array([[[0, 0],\n",
       "        [0, 0]],\n",
       "\n",
       "       [[0, 0],\n",
       "        [0, 0]]], dtype=uint8)"
      ]
     },
     "execution_count": 4,
     "metadata": {},
     "output_type": "execute_result"
    }
   ],
   "source": [
    "filtered_image = np.zeros(shape=[len(filter_),len(filter_[0]),len(filter_[0][0])], dtype=np.uint8)\n",
    "filtered_image"
   ]
  },
  {
   "cell_type": "code",
   "execution_count": 5,
   "metadata": {},
   "outputs": [
    {
     "name": "stdout",
     "output_type": "stream",
     "text": [
      "[[[8 8]\n",
      "  [8 8]]\n",
      "\n",
      " [[8 8]\n",
      "  [8 8]]]\n"
     ]
    }
   ],
   "source": [
    "newX=0\n",
    "newY=0\n",
    "newZ =0\n",
    "for i in range(len(img)-len(filter_)+1):\n",
    "    for j in range(len(img[0])-len(filter_[0])+1):\n",
    "        for k in range(len(img[0][0])-len(filter_[0][0])+1):\n",
    "            sum_ = 0\n",
    "            for x in range(len(filter_)):\n",
    "                for y in range(len(filter_[0])):\n",
    "                    for z in range(len(filter_[0][0])):\n",
    "                        sum_ = sum_ + img[x+i, y+j, z+k]*filter_[x, y, z]         \n",
    "            filtered_image[newX, newY, newZ] = sum_\n",
    "            newZ = newZ + 1\n",
    "        newY = newY + 1\n",
    "        newZ = 0\n",
    "    newX = newX + 1\n",
    "    newY = 0\n",
    "    newZ = 0\n",
    "print(filtered_image)"
   ]
  },
  {
   "cell_type": "code",
   "execution_count": null,
   "metadata": {},
   "outputs": [],
   "source": []
  }
 ],
 "metadata": {
  "kernelspec": {
   "display_name": "Python 3",
   "language": "python",
   "name": "python3"
  },
  "language_info": {
   "codemirror_mode": {
    "name": "ipython",
    "version": 3
   },
   "file_extension": ".py",
   "mimetype": "text/x-python",
   "name": "python",
   "nbconvert_exporter": "python",
   "pygments_lexer": "ipython3",
   "version": "3.6.8"
  }
 },
 "nbformat": 4,
 "nbformat_minor": 2
}
